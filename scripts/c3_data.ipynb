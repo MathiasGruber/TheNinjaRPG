{
 "cells": [
  {
   "cell_type": "code",
   "execution_count": 1,
   "metadata": {},
   "outputs": [],
   "source": [
    "import pyarrow.parquet as pq\n",
    "import pandas as pd\n",
    "pd.set_option('display.max_colwidth', None)\n",
    "pd.set_option('display.max_rows', None)\n",
    "pd.set_option('display.max_columns', None)"
   ]
  },
  {
   "attachments": {},
   "cell_type": "markdown",
   "metadata": {},
   "source": [
    "# Users"
   ]
  },
  {
   "cell_type": "code",
   "execution_count": null,
   "metadata": {},
   "outputs": [],
   "source": [
    "import os\n",
    "dfs = [pd.read_parquet(os.path.join('./data/users', f)) for f in os.listdir('./data/users')]\n",
    "users = pd.concat(dfs).set_index('id')\n",
    "\n",
    "# Map user ID to username\n",
    "id2name = users[['username']].to_dict()['username']"
   ]
  },
  {
   "attachments": {},
   "cell_type": "markdown",
   "metadata": {},
   "source": [
    "# Reports"
   ]
  },
  {
   "cell_type": "code",
   "execution_count": null,
   "metadata": {},
   "outputs": [],
   "source": [
    "reports = pd.read_parquet('./data/c3_userreports.parquet', engine='fastparquet')\n",
    "#df = df.sort_values('use_count_all', ascending=False)\n",
    "#df = df[['name', 'description','battle_description','use_count_all','element','required_rank','village','kage','max_level','attack_type', 'cost_type','jutsu_type','splitJutsu','event_jutsu','weapons', 'tags']]\n",
    "#f = df[(df.jutsu_type == 'normal') & (df.required_rank == 1)]\n",
    "#df.groupby('required_rank').first()\n",
    "print(reports.shape)\n",
    "\n",
    "reports['r_username'] = reports['rid'].map(id2name)\n",
    "reports['u_username'] = reports['uid'].map(id2name)\n",
    "reports = reports.dropna(subset=['r_username', 'u_username'], how='all', axis=0)\n",
    "reports.to_excel('./data/reprts_processed.xlsx', index=False)"
   ]
  },
  {
   "cell_type": "code",
   "execution_count": null,
   "metadata": {},
   "outputs": [],
   "source": [
    "df = pd.read_parquet('./data/c3_jutsus.parquet')\n",
    "df = df.sort_values('use_count_all', ascending=False)\n",
    "#df = df[['name', 'description','battle_description','use_count_all','element','required_rank','village','kage','max_level','attack_type', 'cost_type','jutsu_type','splitJutsu','event_jutsu','weapons', 'tags']]\n",
    "#df = df[(df.jutsu_type == 'normal') & (df.required_rank == 1)]\n",
    "#df.groupby('required_rank').first()\n",
    "df[df.name == 'Fireball']"
   ]
  },
  {
   "cell_type": "code",
   "execution_count": null,
   "metadata": {},
   "outputs": [],
   "source": [
    "df = pd.read_parquet('./data/c3_bloodlines.parquet')\n",
    "df = df.groupby('rarity').head(2).groupby('rarity').last()\n",
    "df"
   ]
  },
  {
   "cell_type": "code",
   "execution_count": null,
   "metadata": {},
   "outputs": [],
   "source": [
    "df = pd.read_parquet('./data/c3_items.parquet')\n",
    "df.loc[(df.type == 'weapon') & (df.required_rank == 5)]"
   ]
  },
  {
   "cell_type": "code",
   "execution_count": 11,
   "metadata": {},
   "outputs": [
    {
     "data": {
      "text/plain": [
       "['Sad Puppy',\n",
       " 'Angry Cat',\n",
       " 'Wild Tribesmen',\n",
       " 'Angry Man',\n",
       " 'Dwarf Komodo',\n",
       " 'Bessie',\n",
       " 'Seven Foot Python',\n",
       " 'Small Tiger',\n",
       " 'Wild Tribe Warrior',\n",
       " 'Rifraf',\n",
       " 'Anarchist',\n",
       " 'Armored Rhonin',\n",
       " 'Wild Tribe Warhawk',\n",
       " 'Wild Tribe Scout',\n",
       " 'Wanted Murderer',\n",
       " 'Lone Shark',\n",
       " 'Wild Tribe Shaman',\n",
       " 'Shinobi Scout',\n",
       " 'Syndicate Henchmen',\n",
       " 'Syndicate Bodyguard',\n",
       " 'Syndicate Assassin',\n",
       " 'Syndicate Crime Lord',\n",
       " 'Wild Tribe Warlord',\n",
       " 'Enraged Berserker',\n",
       " 'Wild Tribe Raider',\n",
       " 'Wild Tribe Beastmaster',\n",
       " 'Wild Tribe Raidleader']"
      ]
     },
     "execution_count": 11,
     "metadata": {},
     "output_type": "execute_result"
    }
   ],
   "source": [
    "df = pd.read_parquet('./data/c3_ai.parquet')\n",
    "#df[df.village == 'ai']\n",
    "df[df.type == 'random'].sort_values('level').name.tolist()"
   ]
  },
  {
   "cell_type": "code",
   "execution_count": null,
   "metadata": {},
   "outputs": [],
   "source": []
  }
 ],
 "metadata": {
  "kernelspec": {
   "display_name": "base",
   "language": "python",
   "name": "python3"
  },
  "language_info": {
   "codemirror_mode": {
    "name": "ipython",
    "version": 3
   },
   "file_extension": ".py",
   "mimetype": "text/x-python",
   "name": "python",
   "nbconvert_exporter": "python",
   "pygments_lexer": "ipython3",
   "version": "3.10.6"
  },
  "orig_nbformat": 4
 },
 "nbformat": 4,
 "nbformat_minor": 2
}
